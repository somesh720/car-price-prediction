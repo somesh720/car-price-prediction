{
 "cells": [
  {
   "cell_type": "markdown",
   "id": "a35e444e",
   "metadata": {},
   "source": [
    "#                                                Car Price Prediction "
   ]
  },
  {
   "cell_type": "code",
   "execution_count": 1,
   "id": "fc86e24e",
   "metadata": {},
   "outputs": [],
   "source": [
    "import pandas as pd\n",
    "import numpy as np\n",
    "import matplotlib.pyplot as plt\n",
    "import seaborn as sns\n",
    "from sklearn.model_selection import train_test_split\n",
    "from sklearn.linear_model import LinearRegression\n",
    "from sklearn.linear_model import Lasso\n",
    "from sklearn import metrics\n",
    "import warnings\n",
    "warnings.filterwarnings(\"ignore\")"
   ]
  },
  {
   "cell_type": "markdown",
   "id": "1b96eb31",
   "metadata": {},
   "source": [
    "## data collection and preprocessing"
   ]
  },
  {
   "cell_type": "code",
   "execution_count": 2,
   "id": "7876421d",
   "metadata": {},
   "outputs": [],
   "source": [
    "car_dataset=pd.read_csv(\"car data.csv\")"
   ]
  },
  {
   "cell_type": "code",
   "execution_count": 3,
   "id": "da1dd9b1",
   "metadata": {},
   "outputs": [
    {
     "data": {
      "text/html": [
       "<div>\n",
       "<style scoped>\n",
       "    .dataframe tbody tr th:only-of-type {\n",
       "        vertical-align: middle;\n",
       "    }\n",
       "\n",
       "    .dataframe tbody tr th {\n",
       "        vertical-align: top;\n",
       "    }\n",
       "\n",
       "    .dataframe thead th {\n",
       "        text-align: right;\n",
       "    }\n",
       "</style>\n",
       "<table border=\"1\" class=\"dataframe\">\n",
       "  <thead>\n",
       "    <tr style=\"text-align: right;\">\n",
       "      <th></th>\n",
       "      <th>0</th>\n",
       "      <th>1</th>\n",
       "      <th>2</th>\n",
       "      <th>3</th>\n",
       "      <th>4</th>\n",
       "      <th>5</th>\n",
       "      <th>6</th>\n",
       "      <th>7</th>\n",
       "      <th>8</th>\n",
       "      <th>9</th>\n",
       "      <th>10</th>\n",
       "      <th>11</th>\n",
       "      <th>12</th>\n",
       "      <th>13</th>\n",
       "      <th>14</th>\n",
       "      <th>15</th>\n",
       "      <th>16</th>\n",
       "      <th>17</th>\n",
       "      <th>18</th>\n",
       "      <th>19</th>\n",
       "    </tr>\n",
       "  </thead>\n",
       "  <tbody>\n",
       "    <tr>\n",
       "      <th>Car_Name</th>\n",
       "      <td>ritz</td>\n",
       "      <td>sx4</td>\n",
       "      <td>ciaz</td>\n",
       "      <td>wagon r</td>\n",
       "      <td>swift</td>\n",
       "      <td>vitara brezza</td>\n",
       "      <td>ciaz</td>\n",
       "      <td>s cross</td>\n",
       "      <td>ciaz</td>\n",
       "      <td>ciaz</td>\n",
       "      <td>alto 800</td>\n",
       "      <td>ciaz</td>\n",
       "      <td>ciaz</td>\n",
       "      <td>ertiga</td>\n",
       "      <td>dzire</td>\n",
       "      <td>ertiga</td>\n",
       "      <td>ertiga</td>\n",
       "      <td>ertiga</td>\n",
       "      <td>wagon r</td>\n",
       "      <td>sx4</td>\n",
       "    </tr>\n",
       "    <tr>\n",
       "      <th>Year</th>\n",
       "      <td>2014</td>\n",
       "      <td>2013</td>\n",
       "      <td>2017</td>\n",
       "      <td>2011</td>\n",
       "      <td>2014</td>\n",
       "      <td>2018</td>\n",
       "      <td>2015</td>\n",
       "      <td>2015</td>\n",
       "      <td>2016</td>\n",
       "      <td>2015</td>\n",
       "      <td>2017</td>\n",
       "      <td>2015</td>\n",
       "      <td>2015</td>\n",
       "      <td>2015</td>\n",
       "      <td>2009</td>\n",
       "      <td>2016</td>\n",
       "      <td>2015</td>\n",
       "      <td>2016</td>\n",
       "      <td>2015</td>\n",
       "      <td>2010</td>\n",
       "    </tr>\n",
       "    <tr>\n",
       "      <th>Selling_Price</th>\n",
       "      <td>3.35</td>\n",
       "      <td>4.75</td>\n",
       "      <td>7.25</td>\n",
       "      <td>2.85</td>\n",
       "      <td>4.6</td>\n",
       "      <td>9.25</td>\n",
       "      <td>6.75</td>\n",
       "      <td>6.5</td>\n",
       "      <td>8.75</td>\n",
       "      <td>7.45</td>\n",
       "      <td>2.85</td>\n",
       "      <td>6.85</td>\n",
       "      <td>7.5</td>\n",
       "      <td>6.1</td>\n",
       "      <td>2.25</td>\n",
       "      <td>7.75</td>\n",
       "      <td>7.25</td>\n",
       "      <td>7.75</td>\n",
       "      <td>3.25</td>\n",
       "      <td>2.65</td>\n",
       "    </tr>\n",
       "    <tr>\n",
       "      <th>Present_Price</th>\n",
       "      <td>5.59</td>\n",
       "      <td>9.54</td>\n",
       "      <td>9.85</td>\n",
       "      <td>4.15</td>\n",
       "      <td>6.87</td>\n",
       "      <td>9.83</td>\n",
       "      <td>8.12</td>\n",
       "      <td>8.61</td>\n",
       "      <td>8.89</td>\n",
       "      <td>8.92</td>\n",
       "      <td>3.6</td>\n",
       "      <td>10.38</td>\n",
       "      <td>9.94</td>\n",
       "      <td>7.71</td>\n",
       "      <td>7.21</td>\n",
       "      <td>10.79</td>\n",
       "      <td>10.79</td>\n",
       "      <td>10.79</td>\n",
       "      <td>5.09</td>\n",
       "      <td>7.98</td>\n",
       "    </tr>\n",
       "    <tr>\n",
       "      <th>Kms_Driven</th>\n",
       "      <td>27000</td>\n",
       "      <td>43000</td>\n",
       "      <td>6900</td>\n",
       "      <td>5200</td>\n",
       "      <td>42450</td>\n",
       "      <td>2071</td>\n",
       "      <td>18796</td>\n",
       "      <td>33429</td>\n",
       "      <td>20273</td>\n",
       "      <td>42367</td>\n",
       "      <td>2135</td>\n",
       "      <td>51000</td>\n",
       "      <td>15000</td>\n",
       "      <td>26000</td>\n",
       "      <td>77427</td>\n",
       "      <td>43000</td>\n",
       "      <td>41678</td>\n",
       "      <td>43000</td>\n",
       "      <td>35500</td>\n",
       "      <td>41442</td>\n",
       "    </tr>\n",
       "    <tr>\n",
       "      <th>Fuel_Type</th>\n",
       "      <td>Petrol</td>\n",
       "      <td>Diesel</td>\n",
       "      <td>Petrol</td>\n",
       "      <td>Petrol</td>\n",
       "      <td>Diesel</td>\n",
       "      <td>Diesel</td>\n",
       "      <td>Petrol</td>\n",
       "      <td>Diesel</td>\n",
       "      <td>Diesel</td>\n",
       "      <td>Diesel</td>\n",
       "      <td>Petrol</td>\n",
       "      <td>Diesel</td>\n",
       "      <td>Petrol</td>\n",
       "      <td>Petrol</td>\n",
       "      <td>Petrol</td>\n",
       "      <td>Diesel</td>\n",
       "      <td>Diesel</td>\n",
       "      <td>Diesel</td>\n",
       "      <td>CNG</td>\n",
       "      <td>Petrol</td>\n",
       "    </tr>\n",
       "    <tr>\n",
       "      <th>Seller_Type</th>\n",
       "      <td>Dealer</td>\n",
       "      <td>Dealer</td>\n",
       "      <td>Dealer</td>\n",
       "      <td>Dealer</td>\n",
       "      <td>Dealer</td>\n",
       "      <td>Dealer</td>\n",
       "      <td>Dealer</td>\n",
       "      <td>Dealer</td>\n",
       "      <td>Dealer</td>\n",
       "      <td>Dealer</td>\n",
       "      <td>Dealer</td>\n",
       "      <td>Dealer</td>\n",
       "      <td>Dealer</td>\n",
       "      <td>Dealer</td>\n",
       "      <td>Dealer</td>\n",
       "      <td>Dealer</td>\n",
       "      <td>Dealer</td>\n",
       "      <td>Dealer</td>\n",
       "      <td>Dealer</td>\n",
       "      <td>Dealer</td>\n",
       "    </tr>\n",
       "    <tr>\n",
       "      <th>Transmission</th>\n",
       "      <td>Manual</td>\n",
       "      <td>Manual</td>\n",
       "      <td>Manual</td>\n",
       "      <td>Manual</td>\n",
       "      <td>Manual</td>\n",
       "      <td>Manual</td>\n",
       "      <td>Manual</td>\n",
       "      <td>Manual</td>\n",
       "      <td>Manual</td>\n",
       "      <td>Manual</td>\n",
       "      <td>Manual</td>\n",
       "      <td>Manual</td>\n",
       "      <td>Automatic</td>\n",
       "      <td>Manual</td>\n",
       "      <td>Manual</td>\n",
       "      <td>Manual</td>\n",
       "      <td>Manual</td>\n",
       "      <td>Manual</td>\n",
       "      <td>Manual</td>\n",
       "      <td>Manual</td>\n",
       "    </tr>\n",
       "    <tr>\n",
       "      <th>Owner</th>\n",
       "      <td>0</td>\n",
       "      <td>0</td>\n",
       "      <td>0</td>\n",
       "      <td>0</td>\n",
       "      <td>0</td>\n",
       "      <td>0</td>\n",
       "      <td>0</td>\n",
       "      <td>0</td>\n",
       "      <td>0</td>\n",
       "      <td>0</td>\n",
       "      <td>0</td>\n",
       "      <td>0</td>\n",
       "      <td>0</td>\n",
       "      <td>0</td>\n",
       "      <td>0</td>\n",
       "      <td>0</td>\n",
       "      <td>0</td>\n",
       "      <td>0</td>\n",
       "      <td>0</td>\n",
       "      <td>0</td>\n",
       "    </tr>\n",
       "  </tbody>\n",
       "</table>\n",
       "</div>"
      ],
      "text/plain": [
       "                   0       1       2        3       4              5       6   \\\n",
       "Car_Name         ritz     sx4    ciaz  wagon r   swift  vitara brezza    ciaz   \n",
       "Year             2014    2013    2017     2011    2014           2018    2015   \n",
       "Selling_Price    3.35    4.75    7.25     2.85     4.6           9.25    6.75   \n",
       "Present_Price    5.59    9.54    9.85     4.15    6.87           9.83    8.12   \n",
       "Kms_Driven      27000   43000    6900     5200   42450           2071   18796   \n",
       "Fuel_Type      Petrol  Diesel  Petrol   Petrol  Diesel         Diesel  Petrol   \n",
       "Seller_Type    Dealer  Dealer  Dealer   Dealer  Dealer         Dealer  Dealer   \n",
       "Transmission   Manual  Manual  Manual   Manual  Manual         Manual  Manual   \n",
       "Owner               0       0       0        0       0              0       0   \n",
       "\n",
       "                    7       8       9         10      11         12      13  \\\n",
       "Car_Name       s cross    ciaz    ciaz  alto 800    ciaz       ciaz  ertiga   \n",
       "Year              2015    2016    2015      2017    2015       2015    2015   \n",
       "Selling_Price      6.5    8.75    7.45      2.85    6.85        7.5     6.1   \n",
       "Present_Price     8.61    8.89    8.92       3.6   10.38       9.94    7.71   \n",
       "Kms_Driven       33429   20273   42367      2135   51000      15000   26000   \n",
       "Fuel_Type       Diesel  Diesel  Diesel    Petrol  Diesel     Petrol  Petrol   \n",
       "Seller_Type     Dealer  Dealer  Dealer    Dealer  Dealer     Dealer  Dealer   \n",
       "Transmission    Manual  Manual  Manual    Manual  Manual  Automatic  Manual   \n",
       "Owner                0       0       0         0       0          0       0   \n",
       "\n",
       "                   14      15      16      17       18      19  \n",
       "Car_Name        dzire  ertiga  ertiga  ertiga  wagon r     sx4  \n",
       "Year             2009    2016    2015    2016     2015    2010  \n",
       "Selling_Price    2.25    7.75    7.25    7.75     3.25    2.65  \n",
       "Present_Price    7.21   10.79   10.79   10.79     5.09    7.98  \n",
       "Kms_Driven      77427   43000   41678   43000    35500   41442  \n",
       "Fuel_Type      Petrol  Diesel  Diesel  Diesel      CNG  Petrol  \n",
       "Seller_Type    Dealer  Dealer  Dealer  Dealer   Dealer  Dealer  \n",
       "Transmission   Manual  Manual  Manual  Manual   Manual  Manual  \n",
       "Owner               0       0       0       0        0       0  "
      ]
     },
     "execution_count": 3,
     "metadata": {},
     "output_type": "execute_result"
    }
   ],
   "source": [
    "car_dataset.head(20).T"
   ]
  },
  {
   "cell_type": "code",
   "execution_count": 4,
   "id": "fc33f97a",
   "metadata": {},
   "outputs": [
    {
     "data": {
      "text/plain": [
       "array(['Dealer', 'Individual'], dtype=object)"
      ]
     },
     "execution_count": 4,
     "metadata": {},
     "output_type": "execute_result"
    }
   ],
   "source": [
    "car_dataset.Seller_Type.unique()"
   ]
  },
  {
   "cell_type": "code",
   "execution_count": 5,
   "id": "9e571850",
   "metadata": {},
   "outputs": [
    {
     "data": {
      "text/plain": [
       "(301, 9)"
      ]
     },
     "execution_count": 5,
     "metadata": {},
     "output_type": "execute_result"
    }
   ],
   "source": [
    "#checking number of rows and columns\n",
    "car_dataset.shape"
   ]
  },
  {
   "cell_type": "code",
   "execution_count": 6,
   "id": "7eb21600",
   "metadata": {},
   "outputs": [
    {
     "name": "stdout",
     "output_type": "stream",
     "text": [
      "<class 'pandas.core.frame.DataFrame'>\n",
      "RangeIndex: 301 entries, 0 to 300\n",
      "Data columns (total 9 columns):\n",
      " #   Column         Non-Null Count  Dtype  \n",
      "---  ------         --------------  -----  \n",
      " 0   Car_Name       301 non-null    object \n",
      " 1   Year           301 non-null    int64  \n",
      " 2   Selling_Price  301 non-null    float64\n",
      " 3   Present_Price  301 non-null    float64\n",
      " 4   Kms_Driven     301 non-null    int64  \n",
      " 5   Fuel_Type      301 non-null    object \n",
      " 6   Seller_Type    301 non-null    object \n",
      " 7   Transmission   301 non-null    object \n",
      " 8   Owner          301 non-null    int64  \n",
      "dtypes: float64(2), int64(3), object(4)\n",
      "memory usage: 21.3+ KB\n"
     ]
    }
   ],
   "source": [
    "car_dataset.info()"
   ]
  },
  {
   "cell_type": "code",
   "execution_count": 7,
   "id": "68ea1542",
   "metadata": {},
   "outputs": [
    {
     "data": {
      "text/plain": [
       "['Car_Name',\n",
       " 'Year',\n",
       " 'Selling_Price',\n",
       " 'Present_Price',\n",
       " 'Kms_Driven',\n",
       " 'Fuel_Type',\n",
       " 'Seller_Type',\n",
       " 'Transmission',\n",
       " 'Owner']"
      ]
     },
     "execution_count": 7,
     "metadata": {},
     "output_type": "execute_result"
    }
   ],
   "source": [
    "car_dataset.columns.tolist()"
   ]
  },
  {
   "cell_type": "markdown",
   "id": "e65463a9",
   "metadata": {},
   "source": [
    "### Identify the numerical and categorical columns"
   ]
  },
  {
   "cell_type": "code",
   "execution_count": 8,
   "id": "cbeb6e4b",
   "metadata": {},
   "outputs": [
    {
     "name": "stdout",
     "output_type": "stream",
     "text": [
      "Numerical columns: ['Year', 'Selling_Price', 'Present_Price', 'Kms_Driven', 'Owner']\n",
      "Categorical columns: ['Car_Name', 'Fuel_Type', 'Seller_Type', 'Transmission']\n"
     ]
    }
   ],
   "source": [
    "\n",
    "numerical_columns = car_dataset.select_dtypes(include=['number']).columns.tolist()\n",
    "categorical_columns = car_dataset.select_dtypes(include=['object', 'category']).columns.tolist()\n",
    "\n",
    "print(\"Numerical columns:\", numerical_columns)\n",
    "print(\"Categorical columns:\", categorical_columns)"
   ]
  },
  {
   "cell_type": "markdown",
   "id": "7adf8c05",
   "metadata": {},
   "source": [
    "-  here Car_Name,Fuel_Type,Seller_Type,Transmission are categorical variable\n",
    "-  here Year,Selling_Price,Present_Price,Kms_Driven,Owner are numerical variable"
   ]
  },
  {
   "cell_type": "markdown",
   "id": "512cf1af",
   "metadata": {},
   "source": [
    "### Checking the number of missing values"
   ]
  },
  {
   "cell_type": "code",
   "execution_count": 9,
   "id": "27cedaef",
   "metadata": {},
   "outputs": [
    {
     "data": {
      "text/plain": [
       "Car_Name         0\n",
       "Year             0\n",
       "Selling_Price    0\n",
       "Present_Price    0\n",
       "Kms_Driven       0\n",
       "Fuel_Type        0\n",
       "Seller_Type      0\n",
       "Transmission     0\n",
       "Owner            0\n",
       "dtype: int64"
      ]
     },
     "execution_count": 9,
     "metadata": {},
     "output_type": "execute_result"
    }
   ],
   "source": [
    "car_dataset.isnull().sum()"
   ]
  },
  {
   "cell_type": "markdown",
   "id": "10bd53ca",
   "metadata": {},
   "source": [
    "- Here no missing value is present."
   ]
  },
  {
   "cell_type": "markdown",
   "id": "d1f2d5a9",
   "metadata": {},
   "source": [
    "### Checking the datatypes"
   ]
  },
  {
   "cell_type": "code",
   "execution_count": 10,
   "id": "443b39ce",
   "metadata": {},
   "outputs": [
    {
     "data": {
      "text/plain": [
       "Car_Name          object\n",
       "Year               int64\n",
       "Selling_Price    float64\n",
       "Present_Price    float64\n",
       "Kms_Driven         int64\n",
       "Fuel_Type         object\n",
       "Seller_Type       object\n",
       "Transmission      object\n",
       "Owner              int64\n",
       "dtype: object"
      ]
     },
     "execution_count": 10,
     "metadata": {},
     "output_type": "execute_result"
    }
   ],
   "source": [
    "car_dataset.dtypes"
   ]
  },
  {
   "cell_type": "markdown",
   "id": "72dfc302",
   "metadata": {},
   "source": [
    "### Checking the distribution of categorical data"
   ]
  },
  {
   "cell_type": "code",
   "execution_count": 11,
   "id": "1849ae2b",
   "metadata": {},
   "outputs": [
    {
     "name": "stdout",
     "output_type": "stream",
     "text": [
      "Fuel_Type\n",
      "Petrol    239\n",
      "Diesel     60\n",
      "CNG         2\n",
      "Name: count, dtype: int64\n",
      "Seller_Type\n",
      "Dealer        195\n",
      "Individual    106\n",
      "Name: count, dtype: int64\n",
      "Transmission\n",
      "Manual       261\n",
      "Automatic     40\n",
      "Name: count, dtype: int64\n"
     ]
    }
   ],
   "source": [
    "print(car_dataset.Fuel_Type.value_counts())\n",
    "print(car_dataset.Seller_Type.value_counts())\n",
    "print(car_dataset.Transmission.value_counts())"
   ]
  },
  {
   "cell_type": "markdown",
   "id": "e6bf81ac",
   "metadata": {},
   "source": [
    "### Identify the diifferent values in categorical columns"
   ]
  },
  {
   "cell_type": "code",
   "execution_count": 12,
   "id": "a495a305",
   "metadata": {},
   "outputs": [
    {
     "data": {
      "text/plain": [
       "array(['Petrol', 'Diesel', 'CNG'], dtype=object)"
      ]
     },
     "execution_count": 12,
     "metadata": {},
     "output_type": "execute_result"
    }
   ],
   "source": [
    "car_dataset.Fuel_Type.unique()"
   ]
  },
  {
   "cell_type": "code",
   "execution_count": 13,
   "id": "075698b5",
   "metadata": {},
   "outputs": [
    {
     "data": {
      "text/plain": [
       "array(['Dealer', 'Individual'], dtype=object)"
      ]
     },
     "execution_count": 13,
     "metadata": {},
     "output_type": "execute_result"
    }
   ],
   "source": [
    "car_dataset.Seller_Type.unique()"
   ]
  },
  {
   "cell_type": "code",
   "execution_count": 14,
   "id": "5d6dfc57",
   "metadata": {},
   "outputs": [
    {
     "data": {
      "text/plain": [
       "array(['Manual', 'Automatic'], dtype=object)"
      ]
     },
     "execution_count": 14,
     "metadata": {},
     "output_type": "execute_result"
    }
   ],
   "source": [
    "car_dataset.Transmission.unique()"
   ]
  },
  {
   "cell_type": "markdown",
   "id": "fd54f41e",
   "metadata": {},
   "source": [
    "### encoding the categorical data(in terms of 0,1,2) using Label Encoder"
   ]
  },
  {
   "cell_type": "code",
   "execution_count": 15,
   "id": "aa15cbd2",
   "metadata": {},
   "outputs": [
    {
     "data": {
      "text/html": [
       "<div>\n",
       "<style scoped>\n",
       "    .dataframe tbody tr th:only-of-type {\n",
       "        vertical-align: middle;\n",
       "    }\n",
       "\n",
       "    .dataframe tbody tr th {\n",
       "        vertical-align: top;\n",
       "    }\n",
       "\n",
       "    .dataframe thead th {\n",
       "        text-align: right;\n",
       "    }\n",
       "</style>\n",
       "<table border=\"1\" class=\"dataframe\">\n",
       "  <thead>\n",
       "    <tr style=\"text-align: right;\">\n",
       "      <th></th>\n",
       "      <th>Car_Name</th>\n",
       "      <th>Fuel_Type</th>\n",
       "      <th>Seller_Type</th>\n",
       "      <th>Transmission</th>\n",
       "    </tr>\n",
       "  </thead>\n",
       "  <tbody>\n",
       "    <tr>\n",
       "      <th>0</th>\n",
       "      <td>ritz</td>\n",
       "      <td>Petrol</td>\n",
       "      <td>Dealer</td>\n",
       "      <td>Manual</td>\n",
       "    </tr>\n",
       "    <tr>\n",
       "      <th>1</th>\n",
       "      <td>sx4</td>\n",
       "      <td>Diesel</td>\n",
       "      <td>Dealer</td>\n",
       "      <td>Manual</td>\n",
       "    </tr>\n",
       "    <tr>\n",
       "      <th>2</th>\n",
       "      <td>ciaz</td>\n",
       "      <td>Petrol</td>\n",
       "      <td>Dealer</td>\n",
       "      <td>Manual</td>\n",
       "    </tr>\n",
       "    <tr>\n",
       "      <th>3</th>\n",
       "      <td>wagon r</td>\n",
       "      <td>Petrol</td>\n",
       "      <td>Dealer</td>\n",
       "      <td>Manual</td>\n",
       "    </tr>\n",
       "    <tr>\n",
       "      <th>4</th>\n",
       "      <td>swift</td>\n",
       "      <td>Diesel</td>\n",
       "      <td>Dealer</td>\n",
       "      <td>Manual</td>\n",
       "    </tr>\n",
       "  </tbody>\n",
       "</table>\n",
       "</div>"
      ],
      "text/plain": [
       "  Car_Name Fuel_Type Seller_Type Transmission\n",
       "0     ritz    Petrol      Dealer       Manual\n",
       "1      sx4    Diesel      Dealer       Manual\n",
       "2     ciaz    Petrol      Dealer       Manual\n",
       "3  wagon r    Petrol      Dealer       Manual\n",
       "4    swift    Diesel      Dealer       Manual"
      ]
     },
     "execution_count": 15,
     "metadata": {},
     "output_type": "execute_result"
    }
   ],
   "source": [
    "from sklearn import preprocessing\n",
    "\n",
    "# Encode categorical variable using label encoder\n",
    "# select all categorical variables\n",
    "car_categorical=car_dataset.select_dtypes(include=['object'])\n",
    "car_categorical.head()"
   ]
  },
  {
   "cell_type": "code",
   "execution_count": 16,
   "id": "ff448630",
   "metadata": {},
   "outputs": [
    {
     "data": {
      "text/plain": [
       "Car_Name        98\n",
       "Fuel_Type        3\n",
       "Seller_Type      2\n",
       "Transmission     2\n",
       "dtype: int64"
      ]
     },
     "execution_count": 16,
     "metadata": {},
     "output_type": "execute_result"
    }
   ],
   "source": [
    "car_categorical.nunique()"
   ]
  },
  {
   "cell_type": "code",
   "execution_count": 17,
   "id": "bc125611",
   "metadata": {},
   "outputs": [],
   "source": [
    "# aplly Label encoder to df_categorical \n",
    "le=preprocessing.LabelEncoder()"
   ]
  },
  {
   "cell_type": "code",
   "execution_count": 18,
   "id": "a53f443f",
   "metadata": {},
   "outputs": [
    {
     "data": {
      "text/plain": [
       "(301, 4)"
      ]
     },
     "execution_count": 18,
     "metadata": {},
     "output_type": "execute_result"
    }
   ],
   "source": [
    "car_categorical.shape"
   ]
  },
  {
   "cell_type": "code",
   "execution_count": 19,
   "id": "03a10a7d",
   "metadata": {},
   "outputs": [
    {
     "data": {
      "text/html": [
       "<div>\n",
       "<style scoped>\n",
       "    .dataframe tbody tr th:only-of-type {\n",
       "        vertical-align: middle;\n",
       "    }\n",
       "\n",
       "    .dataframe tbody tr th {\n",
       "        vertical-align: top;\n",
       "    }\n",
       "\n",
       "    .dataframe thead th {\n",
       "        text-align: right;\n",
       "    }\n",
       "</style>\n",
       "<table border=\"1\" class=\"dataframe\">\n",
       "  <thead>\n",
       "    <tr style=\"text-align: right;\">\n",
       "      <th></th>\n",
       "      <th>Car_Name</th>\n",
       "      <th>Fuel_Type</th>\n",
       "      <th>Seller_Type</th>\n",
       "      <th>Transmission</th>\n",
       "    </tr>\n",
       "  </thead>\n",
       "  <tbody>\n",
       "    <tr>\n",
       "      <th>0</th>\n",
       "      <td>90</td>\n",
       "      <td>2</td>\n",
       "      <td>0</td>\n",
       "      <td>1</td>\n",
       "    </tr>\n",
       "    <tr>\n",
       "      <th>1</th>\n",
       "      <td>93</td>\n",
       "      <td>1</td>\n",
       "      <td>0</td>\n",
       "      <td>1</td>\n",
       "    </tr>\n",
       "    <tr>\n",
       "      <th>2</th>\n",
       "      <td>68</td>\n",
       "      <td>2</td>\n",
       "      <td>0</td>\n",
       "      <td>1</td>\n",
       "    </tr>\n",
       "    <tr>\n",
       "      <th>3</th>\n",
       "      <td>96</td>\n",
       "      <td>2</td>\n",
       "      <td>0</td>\n",
       "      <td>1</td>\n",
       "    </tr>\n",
       "    <tr>\n",
       "      <th>4</th>\n",
       "      <td>92</td>\n",
       "      <td>1</td>\n",
       "      <td>0</td>\n",
       "      <td>1</td>\n",
       "    </tr>\n",
       "  </tbody>\n",
       "</table>\n",
       "</div>"
      ],
      "text/plain": [
       "   Car_Name  Fuel_Type  Seller_Type  Transmission\n",
       "0        90          2            0             1\n",
       "1        93          1            0             1\n",
       "2        68          2            0             1\n",
       "3        96          2            0             1\n",
       "4        92          1            0             1"
      ]
     },
     "execution_count": 19,
     "metadata": {},
     "output_type": "execute_result"
    }
   ],
   "source": [
    "# apply Label encoder to df_categorical\n",
    "le=preprocessing.LabelEncoder()\n",
    "car_categorical=car_categorical.apply(le.fit_transform)\n",
    "car_categorical.head()"
   ]
  },
  {
   "cell_type": "code",
   "execution_count": 20,
   "id": "af24ea4a",
   "metadata": {},
   "outputs": [],
   "source": [
    "# concat df_categorical with original df\n",
    "car_dataset=car_dataset.drop(car_categorical.columns,axis=1)\n",
    "car_dataset=pd.concat([car_dataset,car_categorical],axis=1)\n",
    "#df.head()"
   ]
  },
  {
   "cell_type": "markdown",
   "id": "ac563b81",
   "metadata": {},
   "source": [
    "- Here we encode the categorical data in to numeric value because it is easy to understand for machine learning models"
   ]
  },
  {
   "cell_type": "code",
   "execution_count": 21,
   "id": "be246259",
   "metadata": {},
   "outputs": [
    {
     "data": {
      "text/html": [
       "<div>\n",
       "<style scoped>\n",
       "    .dataframe tbody tr th:only-of-type {\n",
       "        vertical-align: middle;\n",
       "    }\n",
       "\n",
       "    .dataframe tbody tr th {\n",
       "        vertical-align: top;\n",
       "    }\n",
       "\n",
       "    .dataframe thead th {\n",
       "        text-align: right;\n",
       "    }\n",
       "</style>\n",
       "<table border=\"1\" class=\"dataframe\">\n",
       "  <thead>\n",
       "    <tr style=\"text-align: right;\">\n",
       "      <th></th>\n",
       "      <th>Year</th>\n",
       "      <th>Selling_Price</th>\n",
       "      <th>Present_Price</th>\n",
       "      <th>Kms_Driven</th>\n",
       "      <th>Owner</th>\n",
       "      <th>Car_Name</th>\n",
       "      <th>Fuel_Type</th>\n",
       "      <th>Seller_Type</th>\n",
       "      <th>Transmission</th>\n",
       "    </tr>\n",
       "  </thead>\n",
       "  <tbody>\n",
       "    <tr>\n",
       "      <th>0</th>\n",
       "      <td>2014</td>\n",
       "      <td>3.35</td>\n",
       "      <td>5.59</td>\n",
       "      <td>27000</td>\n",
       "      <td>0</td>\n",
       "      <td>90</td>\n",
       "      <td>2</td>\n",
       "      <td>0</td>\n",
       "      <td>1</td>\n",
       "    </tr>\n",
       "    <tr>\n",
       "      <th>1</th>\n",
       "      <td>2013</td>\n",
       "      <td>4.75</td>\n",
       "      <td>9.54</td>\n",
       "      <td>43000</td>\n",
       "      <td>0</td>\n",
       "      <td>93</td>\n",
       "      <td>1</td>\n",
       "      <td>0</td>\n",
       "      <td>1</td>\n",
       "    </tr>\n",
       "    <tr>\n",
       "      <th>2</th>\n",
       "      <td>2017</td>\n",
       "      <td>7.25</td>\n",
       "      <td>9.85</td>\n",
       "      <td>6900</td>\n",
       "      <td>0</td>\n",
       "      <td>68</td>\n",
       "      <td>2</td>\n",
       "      <td>0</td>\n",
       "      <td>1</td>\n",
       "    </tr>\n",
       "    <tr>\n",
       "      <th>3</th>\n",
       "      <td>2011</td>\n",
       "      <td>2.85</td>\n",
       "      <td>4.15</td>\n",
       "      <td>5200</td>\n",
       "      <td>0</td>\n",
       "      <td>96</td>\n",
       "      <td>2</td>\n",
       "      <td>0</td>\n",
       "      <td>1</td>\n",
       "    </tr>\n",
       "    <tr>\n",
       "      <th>4</th>\n",
       "      <td>2014</td>\n",
       "      <td>4.60</td>\n",
       "      <td>6.87</td>\n",
       "      <td>42450</td>\n",
       "      <td>0</td>\n",
       "      <td>92</td>\n",
       "      <td>1</td>\n",
       "      <td>0</td>\n",
       "      <td>1</td>\n",
       "    </tr>\n",
       "  </tbody>\n",
       "</table>\n",
       "</div>"
      ],
      "text/plain": [
       "   Year  Selling_Price  Present_Price  Kms_Driven  Owner  Car_Name  Fuel_Type  \\\n",
       "0  2014           3.35           5.59       27000      0        90          2   \n",
       "1  2013           4.75           9.54       43000      0        93          1   \n",
       "2  2017           7.25           9.85        6900      0        68          2   \n",
       "3  2011           2.85           4.15        5200      0        96          2   \n",
       "4  2014           4.60           6.87       42450      0        92          1   \n",
       "\n",
       "   Seller_Type  Transmission  \n",
       "0            0             1  \n",
       "1            0             1  \n",
       "2            0             1  \n",
       "3            0             1  \n",
       "4            0             1  "
      ]
     },
     "execution_count": 21,
     "metadata": {},
     "output_type": "execute_result"
    }
   ],
   "source": [
    "car_dataset.head()"
   ]
  },
  {
   "cell_type": "markdown",
   "id": "775ed81f",
   "metadata": {},
   "source": [
    "### Spliting data into training and tesing data"
   ]
  },
  {
   "cell_type": "markdown",
   "id": "bc40ba22",
   "metadata": {},
   "source": [
    "- Here we have selling price is  the target variable\n",
    "- Here all the column except Selling_price and Car_Name are placed into x data frame\n",
    "- Here only the target column placed into y data frame"
   ]
  },
  {
   "cell_type": "code",
   "execution_count": 22,
   "id": "5d151e25",
   "metadata": {},
   "outputs": [],
   "source": [
    "#x=car_dataset.drop(['Car_Name','Selling_Price'],axis=1)\n",
    "x=car_dataset.drop(['Selling_Price'],axis=1)\n",
    "y=car_dataset['Selling_Price']"
   ]
  },
  {
   "cell_type": "code",
   "execution_count": 23,
   "id": "bd25b7bc",
   "metadata": {},
   "outputs": [
    {
     "data": {
      "text/html": [
       "<div>\n",
       "<style scoped>\n",
       "    .dataframe tbody tr th:only-of-type {\n",
       "        vertical-align: middle;\n",
       "    }\n",
       "\n",
       "    .dataframe tbody tr th {\n",
       "        vertical-align: top;\n",
       "    }\n",
       "\n",
       "    .dataframe thead th {\n",
       "        text-align: right;\n",
       "    }\n",
       "</style>\n",
       "<table border=\"1\" class=\"dataframe\">\n",
       "  <thead>\n",
       "    <tr style=\"text-align: right;\">\n",
       "      <th></th>\n",
       "      <th>Year</th>\n",
       "      <th>Present_Price</th>\n",
       "      <th>Kms_Driven</th>\n",
       "      <th>Owner</th>\n",
       "      <th>Car_Name</th>\n",
       "      <th>Fuel_Type</th>\n",
       "      <th>Seller_Type</th>\n",
       "      <th>Transmission</th>\n",
       "    </tr>\n",
       "  </thead>\n",
       "  <tbody>\n",
       "    <tr>\n",
       "      <th>0</th>\n",
       "      <td>2014</td>\n",
       "      <td>5.59</td>\n",
       "      <td>27000</td>\n",
       "      <td>0</td>\n",
       "      <td>90</td>\n",
       "      <td>2</td>\n",
       "      <td>0</td>\n",
       "      <td>1</td>\n",
       "    </tr>\n",
       "    <tr>\n",
       "      <th>1</th>\n",
       "      <td>2013</td>\n",
       "      <td>9.54</td>\n",
       "      <td>43000</td>\n",
       "      <td>0</td>\n",
       "      <td>93</td>\n",
       "      <td>1</td>\n",
       "      <td>0</td>\n",
       "      <td>1</td>\n",
       "    </tr>\n",
       "    <tr>\n",
       "      <th>2</th>\n",
       "      <td>2017</td>\n",
       "      <td>9.85</td>\n",
       "      <td>6900</td>\n",
       "      <td>0</td>\n",
       "      <td>68</td>\n",
       "      <td>2</td>\n",
       "      <td>0</td>\n",
       "      <td>1</td>\n",
       "    </tr>\n",
       "    <tr>\n",
       "      <th>3</th>\n",
       "      <td>2011</td>\n",
       "      <td>4.15</td>\n",
       "      <td>5200</td>\n",
       "      <td>0</td>\n",
       "      <td>96</td>\n",
       "      <td>2</td>\n",
       "      <td>0</td>\n",
       "      <td>1</td>\n",
       "    </tr>\n",
       "    <tr>\n",
       "      <th>4</th>\n",
       "      <td>2014</td>\n",
       "      <td>6.87</td>\n",
       "      <td>42450</td>\n",
       "      <td>0</td>\n",
       "      <td>92</td>\n",
       "      <td>1</td>\n",
       "      <td>0</td>\n",
       "      <td>1</td>\n",
       "    </tr>\n",
       "  </tbody>\n",
       "</table>\n",
       "</div>"
      ],
      "text/plain": [
       "   Year  Present_Price  Kms_Driven  Owner  Car_Name  Fuel_Type  Seller_Type  \\\n",
       "0  2014           5.59       27000      0        90          2            0   \n",
       "1  2013           9.54       43000      0        93          1            0   \n",
       "2  2017           9.85        6900      0        68          2            0   \n",
       "3  2011           4.15        5200      0        96          2            0   \n",
       "4  2014           6.87       42450      0        92          1            0   \n",
       "\n",
       "   Transmission  \n",
       "0             1  \n",
       "1             1  \n",
       "2             1  \n",
       "3             1  \n",
       "4             1  "
      ]
     },
     "execution_count": 23,
     "metadata": {},
     "output_type": "execute_result"
    }
   ],
   "source": [
    "x.head()"
   ]
  },
  {
   "cell_type": "code",
   "execution_count": 24,
   "id": "5aeb4ad2",
   "metadata": {},
   "outputs": [
    {
     "data": {
      "text/plain": [
       "(301, 8)"
      ]
     },
     "execution_count": 24,
     "metadata": {},
     "output_type": "execute_result"
    }
   ],
   "source": [
    "x.shape"
   ]
  },
  {
   "cell_type": "code",
   "execution_count": 25,
   "id": "70e8e277",
   "metadata": {},
   "outputs": [
    {
     "data": {
      "text/plain": [
       "0    3.35\n",
       "1    4.75\n",
       "2    7.25\n",
       "3    2.85\n",
       "4    4.60\n",
       "Name: Selling_Price, dtype: float64"
      ]
     },
     "execution_count": 25,
     "metadata": {},
     "output_type": "execute_result"
    }
   ],
   "source": [
    "y.head()"
   ]
  },
  {
   "cell_type": "code",
   "execution_count": 26,
   "id": "a2e40dd2",
   "metadata": {},
   "outputs": [
    {
     "data": {
      "text/plain": [
       "(301,)"
      ]
     },
     "execution_count": 26,
     "metadata": {},
     "output_type": "execute_result"
    }
   ],
   "source": [
    "y.shape"
   ]
  },
  {
   "cell_type": "markdown",
   "id": "224a8cd8",
   "metadata": {},
   "source": [
    "### Splitting the data and target"
   ]
  },
  {
   "cell_type": "markdown",
   "id": "321eb401",
   "metadata": {},
   "source": [
    "- x_train contains the  data of trainining\n",
    "- x_test contains the price of training data\n",
    "- y_train contains the traininng data of all data\n",
    "- y_test contais the corresponding selling_price"
   ]
  },
  {
   "cell_type": "code",
   "execution_count": 27,
   "id": "f7e22cd1",
   "metadata": {},
   "outputs": [],
   "source": [
    "x_train,x_test,y_train,y_test=train_test_split(x,y,test_size=0.3,train_size=0.7,random_state=2)"
   ]
  },
  {
   "cell_type": "markdown",
   "id": "eff4ef48",
   "metadata": {},
   "source": [
    "### Model Training\n",
    "\n",
    "#### Use Linear Regression Model"
   ]
  },
  {
   "cell_type": "code",
   "execution_count": 28,
   "id": "e8a534cd",
   "metadata": {},
   "outputs": [],
   "source": [
    "# loading regression model\n",
    "lin_reg_model=LinearRegression()"
   ]
  },
  {
   "cell_type": "code",
   "execution_count": 29,
   "id": "7e6bcc82",
   "metadata": {},
   "outputs": [
    {
     "data": {
      "text/html": [
       "<style>#sk-container-id-1 {color: black;}#sk-container-id-1 pre{padding: 0;}#sk-container-id-1 div.sk-toggleable {background-color: white;}#sk-container-id-1 label.sk-toggleable__label {cursor: pointer;display: block;width: 100%;margin-bottom: 0;padding: 0.3em;box-sizing: border-box;text-align: center;}#sk-container-id-1 label.sk-toggleable__label-arrow:before {content: \"▸\";float: left;margin-right: 0.25em;color: #696969;}#sk-container-id-1 label.sk-toggleable__label-arrow:hover:before {color: black;}#sk-container-id-1 div.sk-estimator:hover label.sk-toggleable__label-arrow:before {color: black;}#sk-container-id-1 div.sk-toggleable__content {max-height: 0;max-width: 0;overflow: hidden;text-align: left;background-color: #f0f8ff;}#sk-container-id-1 div.sk-toggleable__content pre {margin: 0.2em;color: black;border-radius: 0.25em;background-color: #f0f8ff;}#sk-container-id-1 input.sk-toggleable__control:checked~div.sk-toggleable__content {max-height: 200px;max-width: 100%;overflow: auto;}#sk-container-id-1 input.sk-toggleable__control:checked~label.sk-toggleable__label-arrow:before {content: \"▾\";}#sk-container-id-1 div.sk-estimator input.sk-toggleable__control:checked~label.sk-toggleable__label {background-color: #d4ebff;}#sk-container-id-1 div.sk-label input.sk-toggleable__control:checked~label.sk-toggleable__label {background-color: #d4ebff;}#sk-container-id-1 input.sk-hidden--visually {border: 0;clip: rect(1px 1px 1px 1px);clip: rect(1px, 1px, 1px, 1px);height: 1px;margin: -1px;overflow: hidden;padding: 0;position: absolute;width: 1px;}#sk-container-id-1 div.sk-estimator {font-family: monospace;background-color: #f0f8ff;border: 1px dotted black;border-radius: 0.25em;box-sizing: border-box;margin-bottom: 0.5em;}#sk-container-id-1 div.sk-estimator:hover {background-color: #d4ebff;}#sk-container-id-1 div.sk-parallel-item::after {content: \"\";width: 100%;border-bottom: 1px solid gray;flex-grow: 1;}#sk-container-id-1 div.sk-label:hover label.sk-toggleable__label {background-color: #d4ebff;}#sk-container-id-1 div.sk-serial::before {content: \"\";position: absolute;border-left: 1px solid gray;box-sizing: border-box;top: 0;bottom: 0;left: 50%;z-index: 0;}#sk-container-id-1 div.sk-serial {display: flex;flex-direction: column;align-items: center;background-color: white;padding-right: 0.2em;padding-left: 0.2em;position: relative;}#sk-container-id-1 div.sk-item {position: relative;z-index: 1;}#sk-container-id-1 div.sk-parallel {display: flex;align-items: stretch;justify-content: center;background-color: white;position: relative;}#sk-container-id-1 div.sk-item::before, #sk-container-id-1 div.sk-parallel-item::before {content: \"\";position: absolute;border-left: 1px solid gray;box-sizing: border-box;top: 0;bottom: 0;left: 50%;z-index: -1;}#sk-container-id-1 div.sk-parallel-item {display: flex;flex-direction: column;z-index: 1;position: relative;background-color: white;}#sk-container-id-1 div.sk-parallel-item:first-child::after {align-self: flex-end;width: 50%;}#sk-container-id-1 div.sk-parallel-item:last-child::after {align-self: flex-start;width: 50%;}#sk-container-id-1 div.sk-parallel-item:only-child::after {width: 0;}#sk-container-id-1 div.sk-dashed-wrapped {border: 1px dashed gray;margin: 0 0.4em 0.5em 0.4em;box-sizing: border-box;padding-bottom: 0.4em;background-color: white;}#sk-container-id-1 div.sk-label label {font-family: monospace;font-weight: bold;display: inline-block;line-height: 1.2em;}#sk-container-id-1 div.sk-label-container {text-align: center;}#sk-container-id-1 div.sk-container {/* jupyter's `normalize.less` sets `[hidden] { display: none; }` but bootstrap.min.css set `[hidden] { display: none !important; }` so we also need the `!important` here to be able to override the default hidden behavior on the sphinx rendered scikit-learn.org. See: https://github.com/scikit-learn/scikit-learn/issues/21755 */display: inline-block !important;position: relative;}#sk-container-id-1 div.sk-text-repr-fallback {display: none;}</style><div id=\"sk-container-id-1\" class=\"sk-top-container\"><div class=\"sk-text-repr-fallback\"><pre>LinearRegression()</pre><b>In a Jupyter environment, please rerun this cell to show the HTML representation or trust the notebook. <br />On GitHub, the HTML representation is unable to render, please try loading this page with nbviewer.org.</b></div><div class=\"sk-container\" hidden><div class=\"sk-item\"><div class=\"sk-estimator sk-toggleable\"><input class=\"sk-toggleable__control sk-hidden--visually\" id=\"sk-estimator-id-1\" type=\"checkbox\" checked><label for=\"sk-estimator-id-1\" class=\"sk-toggleable__label sk-toggleable__label-arrow\">LinearRegression</label><div class=\"sk-toggleable__content\"><pre>LinearRegression()</pre></div></div></div></div></div>"
      ],
      "text/plain": [
       "LinearRegression()"
      ]
     },
     "execution_count": 29,
     "metadata": {},
     "output_type": "execute_result"
    }
   ],
   "source": [
    "lin_reg_model.fit(x_train,y_train)"
   ]
  },
  {
   "cell_type": "markdown",
   "id": "becada42",
   "metadata": {},
   "source": [
    "### Model Evaluation"
   ]
  },
  {
   "cell_type": "code",
   "execution_count": 30,
   "id": "260a76ba",
   "metadata": {},
   "outputs": [],
   "source": [
    "# prediction of training data\n",
    "training_data_prediction=lin_reg_model.predict(x_train)"
   ]
  },
  {
   "cell_type": "code",
   "execution_count": 31,
   "id": "3d6e7c6a",
   "metadata": {},
   "outputs": [
    {
     "name": "stdout",
     "output_type": "stream",
     "text": [
      "R square error is: 0.8865170837988067\n"
     ]
    }
   ],
   "source": [
    "# R square error\n",
    "error_score=metrics.r2_score(y_train,training_data_prediction)\n",
    "print(\"R square error is:\",error_score)"
   ]
  },
  {
   "cell_type": "markdown",
   "id": "bade358b",
   "metadata": {},
   "source": [
    "### Visualize the actual and predicted prices"
   ]
  },
  {
   "cell_type": "code",
   "execution_count": 32,
   "id": "29eca4ca",
   "metadata": {},
   "outputs": [
    {
     "data": {
      "text/plain": [
       "Text(0.5, 1.0, 'Actual Price vs Predicted Price')"
      ]
     },
     "execution_count": 32,
     "metadata": {},
     "output_type": "execute_result"
    },
    {
     "data": {
      "image/png": "[encoded data removed]",
      "text/plain": [
       "<Figure size 640x480 with 1 Axes>"
      ]
     },
     "metadata": {},
     "output_type": "display_data"
    }
   ],
   "source": [
    "plt.scatter(y_train,training_data_prediction)\n",
    "plt.xlabel(\"Actual Price\")\n",
    "plt.ylabel(\"Predicted Price\")\n",
    "plt.title(\"Actual Price vs Predicted Price\")"
   ]
  },
  {
   "cell_type": "markdown",
   "id": "7c91c886",
   "metadata": {},
   "source": [
    "#### Observation:\n",
    "- As we can see that is no more distance between the values,they are closer to each other.\n",
    "- when the price increases there some gap between values because thhe price of car with in the range 10,there are less value greater than 10.\n",
    "- so here the value predicted by our machine learrning model are very close to original sold price."
   ]
  },
  {
   "cell_type": "code",
   "execution_count": 33,
   "id": "1fad001e",
   "metadata": {},
   "outputs": [],
   "source": [
    "# prediction of test data\n",
    "test_data_prediction=lin_reg_model.predict(x_test)"
   ]
  },
  {
   "cell_type": "code",
   "execution_count": 34,
   "id": "d054a31c",
   "metadata": {},
   "outputs": [
    {
     "name": "stdout",
     "output_type": "stream",
     "text": [
      "R square error is: 0.8184427425143406\n"
     ]
    }
   ],
   "source": [
    "# R square error\n",
    "error_score=metrics.r2_score(y_test,test_data_prediction)\n",
    "print(\"R square error is:\",error_score)"
   ]
  },
  {
   "cell_type": "markdown",
   "id": "dce37e8d",
   "metadata": {},
   "source": [
    "- so it is good value because if  the R square value is less than the model performance is good."
   ]
  },
  {
   "cell_type": "code",
   "execution_count": 35,
   "id": "c54c41f0",
   "metadata": {},
   "outputs": [
    {
     "data": {
      "text/plain": [
       "Text(0.5, 1.0, 'Actual Price vs Predicted Price')"
      ]
     },
     "execution_count": 35,
     "metadata": {},
     "output_type": "execute_result"
    },
    {
     "data": {
      "image/png": "[encoded data removed]",
      "text/plain": [
       "<Figure size 640x480 with 1 Axes>"
      ]
     },
     "metadata": {},
     "output_type": "display_data"
    }
   ],
   "source": [
    "plt.scatter(y_test,test_data_prediction)\n",
    "plt.xlabel(\"Actual Price\")\n",
    "plt.ylabel(\"Predicted Price\")\n",
    "plt.title(\"Actual Price vs Predicted Price\")"
   ]
  },
  {
   "cell_type": "markdown",
   "id": "184bbf3a",
   "metadata": {},
   "source": [
    "### Use Lasso Regression"
   ]
  },
  {
   "cell_type": "code",
   "execution_count": 36,
   "id": "0cb79da2",
   "metadata": {},
   "outputs": [],
   "source": [
    "# loading regression model\n",
    "lasso_reg_model=Lasso()"
   ]
  },
  {
   "cell_type": "code",
   "execution_count": 37,
   "id": "6e674613",
   "metadata": {},
   "outputs": [
    {
     "data": {
      "text/html": [
       "<style>#sk-container-id-2 {color: black;}#sk-container-id-2 pre{padding: 0;}#sk-container-id-2 div.sk-toggleable {background-color: white;}#sk-container-id-2 label.sk-toggleable__label {cursor: pointer;display: block;width: 100%;margin-bottom: 0;padding: 0.3em;box-sizing: border-box;text-align: center;}#sk-container-id-2 label.sk-toggleable__label-arrow:before {content: \"▸\";float: left;margin-right: 0.25em;color: #696969;}#sk-container-id-2 label.sk-toggleable__label-arrow:hover:before {color: black;}#sk-container-id-2 div.sk-estimator:hover label.sk-toggleable__label-arrow:before {color: black;}#sk-container-id-2 div.sk-toggleable__content {max-height: 0;max-width: 0;overflow: hidden;text-align: left;background-color: #f0f8ff;}#sk-container-id-2 div.sk-toggleable__content pre {margin: 0.2em;color: black;border-radius: 0.25em;background-color: #f0f8ff;}#sk-container-id-2 input.sk-toggleable__control:checked~div.sk-toggleable__content {max-height: 200px;max-width: 100%;overflow: auto;}#sk-container-id-2 input.sk-toggleable__control:checked~label.sk-toggleable__label-arrow:before {content: \"▾\";}#sk-container-id-2 div.sk-estimator input.sk-toggleable__control:checked~label.sk-toggleable__label {background-color: #d4ebff;}#sk-container-id-2 div.sk-label input.sk-toggleable__control:checked~label.sk-toggleable__label {background-color: #d4ebff;}#sk-container-id-2 input.sk-hidden--visually {border: 0;clip: rect(1px 1px 1px 1px);clip: rect(1px, 1px, 1px, 1px);height: 1px;margin: -1px;overflow: hidden;padding: 0;position: absolute;width: 1px;}#sk-container-id-2 div.sk-estimator {font-family: monospace;background-color: #f0f8ff;border: 1px dotted black;border-radius: 0.25em;box-sizing: border-box;margin-bottom: 0.5em;}#sk-container-id-2 div.sk-estimator:hover {background-color: #d4ebff;}#sk-container-id-2 div.sk-parallel-item::after {content: \"\";width: 100%;border-bottom: 1px solid gray;flex-grow: 1;}#sk-container-id-2 div.sk-label:hover label.sk-toggleable__label {background-color: #d4ebff;}#sk-container-id-2 div.sk-serial::before {content: \"\";position: absolute;border-left: 1px solid gray;box-sizing: border-box;top: 0;bottom: 0;left: 50%;z-index: 0;}#sk-container-id-2 div.sk-serial {display: flex;flex-direction: column;align-items: center;background-color: white;padding-right: 0.2em;padding-left: 0.2em;position: relative;}#sk-container-id-2 div.sk-item {position: relative;z-index: 1;}#sk-container-id-2 div.sk-parallel {display: flex;align-items: stretch;justify-content: center;background-color: white;position: relative;}#sk-container-id-2 div.sk-item::before, #sk-container-id-2 div.sk-parallel-item::before {content: \"\";position: absolute;border-left: 1px solid gray;box-sizing: border-box;top: 0;bottom: 0;left: 50%;z-index: -1;}#sk-container-id-2 div.sk-parallel-item {display: flex;flex-direction: column;z-index: 1;position: relative;background-color: white;}#sk-container-id-2 div.sk-parallel-item:first-child::after {align-self: flex-end;width: 50%;}#sk-container-id-2 div.sk-parallel-item:last-child::after {align-self: flex-start;width: 50%;}#sk-container-id-2 div.sk-parallel-item:only-child::after {width: 0;}#sk-container-id-2 div.sk-dashed-wrapped {border: 1px dashed gray;margin: 0 0.4em 0.5em 0.4em;box-sizing: border-box;padding-bottom: 0.4em;background-color: white;}#sk-container-id-2 div.sk-label label {font-family: monospace;font-weight: bold;display: inline-block;line-height: 1.2em;}#sk-container-id-2 div.sk-label-container {text-align: center;}#sk-container-id-2 div.sk-container {/* jupyter's `normalize.less` sets `[hidden] { display: none; }` but bootstrap.min.css set `[hidden] { display: none !important; }` so we also need the `!important` here to be able to override the default hidden behavior on the sphinx rendered scikit-learn.org. See: https://github.com/scikit-learn/scikit-learn/issues/21755 */display: inline-block !important;position: relative;}#sk-container-id-2 div.sk-text-repr-fallback {display: none;}</style><div id=\"sk-container-id-2\" class=\"sk-top-container\"><div class=\"sk-text-repr-fallback\"><pre>Lasso()</pre><b>In a Jupyter environment, please rerun this cell to show the HTML representation or trust the notebook. <br />On GitHub, the HTML representation is unable to render, please try loading this page with nbviewer.org.</b></div><div class=\"sk-container\" hidden><div class=\"sk-item\"><div class=\"sk-estimator sk-toggleable\"><input class=\"sk-toggleable__control sk-hidden--visually\" id=\"sk-estimator-id-2\" type=\"checkbox\" checked><label for=\"sk-estimator-id-2\" class=\"sk-toggleable__label sk-toggleable__label-arrow\">Lasso</label><div class=\"sk-toggleable__content\"><pre>Lasso()</pre></div></div></div></div></div>"
      ],
      "text/plain": [
       "Lasso()"
      ]
     },
     "execution_count": 37,
     "metadata": {},
     "output_type": "execute_result"
    }
   ],
   "source": [
    "lasso_reg_model.fit(x_train,y_train)"
   ]
  },
  {
   "cell_type": "markdown",
   "id": "c12e118c",
   "metadata": {},
   "source": [
    "### Model Evaluation"
   ]
  },
  {
   "cell_type": "code",
   "execution_count": 38,
   "id": "21cfbc28",
   "metadata": {},
   "outputs": [],
   "source": [
    "# prediction of training data\n",
    "training_data_prediction=lasso_reg_model.predict(x_train)"
   ]
  },
  {
   "cell_type": "code",
   "execution_count": 39,
   "id": "5cb37da9",
   "metadata": {},
   "outputs": [
    {
     "name": "stdout",
     "output_type": "stream",
     "text": [
      "R square error is: 0.8489519145137759\n"
     ]
    }
   ],
   "source": [
    "# R square error\n",
    "error_score=metrics.r2_score(y_train,training_data_prediction)\n",
    "print(\"R square error is:\",error_score)"
   ]
  },
  {
   "cell_type": "code",
   "execution_count": 40,
   "id": "831ce758",
   "metadata": {},
   "outputs": [
    {
     "data": {
      "text/plain": [
       "Text(0.5, 1.0, 'Actual Price vs Predicted Price')"
      ]
     },
     "execution_count": 40,
     "metadata": {},
     "output_type": "execute_result"
    },
    {
     "data": {
      "image/png": "[encoded data removed]",
      "text/plain": [
       "<Figure size 640x480 with 1 Axes>"
      ]
     },
     "metadata": {},
     "output_type": "display_data"
    }
   ],
   "source": [
    "plt.scatter(y_train,training_data_prediction)\n",
    "plt.xlabel(\"Actual Price\")\n",
    "plt.ylabel(\"Predicted Price\")\n",
    "plt.title(\"Actual Price vs Predicted Price\")"
   ]
  },
  {
   "cell_type": "code",
   "execution_count": 41,
   "id": "43a47b03",
   "metadata": {},
   "outputs": [],
   "source": [
    "# prediction of test data\n",
    "test_data_prediction=lasso_reg_model.predict(x_test)"
   ]
  },
  {
   "cell_type": "code",
   "execution_count": 42,
   "id": "efa7f005",
   "metadata": {},
   "outputs": [
    {
     "name": "stdout",
     "output_type": "stream",
     "text": [
      "R square error is: 0.8592221948827378\n"
     ]
    }
   ],
   "source": [
    "# R square error\n",
    "error_score=metrics.r2_score(y_test,test_data_prediction)\n",
    "print(\"R square error is:\",error_score)"
   ]
  },
  {
   "cell_type": "code",
   "execution_count": 43,
   "id": "f8c03dbe",
   "metadata": {},
   "outputs": [
    {
     "data": {
      "text/plain": [
       "Text(0.5, 1.0, 'Actual Price vs Predicted Price')"
      ]
     },
     "execution_count": 43,
     "metadata": {},
     "output_type": "execute_result"
    },
    {
     "data": {
      "image/png": "[encoded data removed]",
      "text/plain": [
       "<Figure size 640x480 with 1 Axes>"
      ]
     },
     "metadata": {},
     "output_type": "display_data"
    }
   ],
   "source": [
    "plt.scatter(y_test,test_data_prediction)\n",
    "plt.xlabel(\"Actual Price\")\n",
    "plt.ylabel(\"Predicted Price\")\n",
    "plt.title(\"Actual Price vs Predicted Price\")"
   ]
  },
  {
   "cell_type": "markdown",
   "id": "a7a592a8",
   "metadata": {},
   "source": [
    "- Here the distance between the points are not very much higher.\n",
    "- so it is good fit for carprice prediction."
   ]
  },
  {
   "cell_type": "code",
   "execution_count": 44,
   "id": "481af88e",
   "metadata": {},
   "outputs": [
    {
     "data": {
      "text/html": [
       "<div>\n",
       "<style scoped>\n",
       "    .dataframe tbody tr th:only-of-type {\n",
       "        vertical-align: middle;\n",
       "    }\n",
       "\n",
       "    .dataframe tbody tr th {\n",
       "        vertical-align: top;\n",
       "    }\n",
       "\n",
       "    .dataframe thead th {\n",
       "        text-align: right;\n",
       "    }\n",
       "</style>\n",
       "<table border=\"1\" class=\"dataframe\">\n",
       "  <thead>\n",
       "    <tr style=\"text-align: right;\">\n",
       "      <th></th>\n",
       "      <th>Year</th>\n",
       "      <th>Selling_Price</th>\n",
       "      <th>Present_Price</th>\n",
       "      <th>Kms_Driven</th>\n",
       "      <th>Owner</th>\n",
       "      <th>Car_Name</th>\n",
       "      <th>Fuel_Type</th>\n",
       "      <th>Seller_Type</th>\n",
       "      <th>Transmission</th>\n",
       "    </tr>\n",
       "  </thead>\n",
       "  <tbody>\n",
       "    <tr>\n",
       "      <th>0</th>\n",
       "      <td>2014</td>\n",
       "      <td>3.35</td>\n",
       "      <td>5.59</td>\n",
       "      <td>27000</td>\n",
       "      <td>0</td>\n",
       "      <td>90</td>\n",
       "      <td>2</td>\n",
       "      <td>0</td>\n",
       "      <td>1</td>\n",
       "    </tr>\n",
       "    <tr>\n",
       "      <th>1</th>\n",
       "      <td>2013</td>\n",
       "      <td>4.75</td>\n",
       "      <td>9.54</td>\n",
       "      <td>43000</td>\n",
       "      <td>0</td>\n",
       "      <td>93</td>\n",
       "      <td>1</td>\n",
       "      <td>0</td>\n",
       "      <td>1</td>\n",
       "    </tr>\n",
       "    <tr>\n",
       "      <th>2</th>\n",
       "      <td>2017</td>\n",
       "      <td>7.25</td>\n",
       "      <td>9.85</td>\n",
       "      <td>6900</td>\n",
       "      <td>0</td>\n",
       "      <td>68</td>\n",
       "      <td>2</td>\n",
       "      <td>0</td>\n",
       "      <td>1</td>\n",
       "    </tr>\n",
       "    <tr>\n",
       "      <th>3</th>\n",
       "      <td>2011</td>\n",
       "      <td>2.85</td>\n",
       "      <td>4.15</td>\n",
       "      <td>5200</td>\n",
       "      <td>0</td>\n",
       "      <td>96</td>\n",
       "      <td>2</td>\n",
       "      <td>0</td>\n",
       "      <td>1</td>\n",
       "    </tr>\n",
       "    <tr>\n",
       "      <th>4</th>\n",
       "      <td>2014</td>\n",
       "      <td>4.60</td>\n",
       "      <td>6.87</td>\n",
       "      <td>42450</td>\n",
       "      <td>0</td>\n",
       "      <td>92</td>\n",
       "      <td>1</td>\n",
       "      <td>0</td>\n",
       "      <td>1</td>\n",
       "    </tr>\n",
       "  </tbody>\n",
       "</table>\n",
       "</div>"
      ],
      "text/plain": [
       "   Year  Selling_Price  Present_Price  Kms_Driven  Owner  Car_Name  Fuel_Type  \\\n",
       "0  2014           3.35           5.59       27000      0        90          2   \n",
       "1  2013           4.75           9.54       43000      0        93          1   \n",
       "2  2017           7.25           9.85        6900      0        68          2   \n",
       "3  2011           2.85           4.15        5200      0        96          2   \n",
       "4  2014           4.60           6.87       42450      0        92          1   \n",
       "\n",
       "   Seller_Type  Transmission  \n",
       "0            0             1  \n",
       "1            0             1  \n",
       "2            0             1  \n",
       "3            0             1  \n",
       "4            0             1  "
      ]
     },
     "execution_count": 44,
     "metadata": {},
     "output_type": "execute_result"
    }
   ],
   "source": [
    "car_dataset.head()"
   ]
  },
  {
   "cell_type": "markdown",
   "id": "e81cf207",
   "metadata": {},
   "source": [
    "### Building a model which predict the  selling_price of a car"
   ]
  },
  {
   "cell_type": "code",
   "execution_count": 45,
   "id": "c50a1f92",
   "metadata": {},
   "outputs": [
    {
     "name": "stdout",
     "output_type": "stream",
     "text": [
      "[7.24213123]\n",
      "The selling price is: 7.242131229519259\n"
     ]
    }
   ],
   "source": [
    "cardata = (2017,9.85,6900,0,68,2,0,1)\n",
    "#cardata = (2011,4.15,5200,0,96,2,0,1)\n",
    "###          (year,present_price,kms_driven,Owner,car_name,fuel_type,seller_type,Transmission)\n",
    "# changing input_data to a numpy array\n",
    "cardata_as_numpy_array = np.asarray(cardata)\n",
    "#reshape the array\n",
    "cardata_reshaped = cardata_as_numpy_array.reshape(1,-1)\n",
    "prediction = lasso_reg_model.predict(cardata_reshaped)\n",
    "print(prediction)\n",
    "print('The selling price is:', prediction[0])"
   ]
  },
  {
   "cell_type": "markdown",
   "id": "662afad9",
   "metadata": {},
   "source": [
    "- here we predict the selling price is 7.24213123 but the actual price is 7.25 .it is nearly equal."
   ]
  },
  {
   "cell_type": "code",
   "execution_count": null,
   "id": "b4e0278e",
   "metadata": {},
   "outputs": [],
   "source": []
  },
  {
   "cell_type": "code",
   "execution_count": null,
   "id": "60557191",
   "metadata": {},
   "outputs": [],
   "source": []
  }
 ],
 "metadata": {
  "kernelspec": {
   "display_name": "Python 3 (ipykernel)",
   "language": "python",
   "name": "python3"
  },
  "language_info": {
   "codemirror_mode": {
    "name": "ipython",
    "version": 3
   },
   "file_extension": ".py",
   "mimetype": "text/x-python",
   "name": "python",
   "nbconvert_exporter": "python",
   "pygments_lexer": "ipython3",
   "version": "3.11.5"
  }
 },
 "nbformat": 4,
 "nbformat_minor": 5
}
